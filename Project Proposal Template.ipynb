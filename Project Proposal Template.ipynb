{
 "cells": [
  {
   "cell_type": "markdown",
   "id": "90b5bf0e",
   "metadata": {},
   "source": [
    "# STOR 320: Methods for Data Science\n",
    "## 2025 Fall\n",
    "## Project Proposal Group 6 - [We were unable to confirm this]\n"
   ]
  },
  {
   "cell_type": "markdown",
   "id": "e15d0f56",
   "metadata": {},
   "source": [
    "## Project Roles\n",
    "\n",
    "- **Creator:** Perry Sorenson, psor1241@unc.edu, 730742688\n",
    "- **Interpreter(s):** Elijah Turner, elpresto@unc.edu, 730773330\n",
    "- **Interpreter(s):** Huayi Ge, huayige@unc.edu, 730941427\n",
    "- **Interpreter(s):** Yijing Ren, ryj122@unc.edu, 730939575\n",
    "- **Deliverer:** Hao Zheng, haozheng@unc.edu, 730776321"
   ]
  },
  {
   "cell_type": "markdown",
   "id": "2b144712",
   "metadata": {},
   "source": [
    "## Datasets\n",
    "\n",
    "[Replication Data for: China’s Foreign Aid Political Drivers: Lessons from a Novel Dataset of Mask Diplomacy in Latin America During the COVID-19 Pandemic](https://dataverse.harvard.edu/dataset.xhtml?persistentId=doi:10.7910/DVN/EIAXSE)  \n",
    "- Cick Download\n",
    "\n",
    "[A global dataset of pandemic- and epidemic-prone disease outbreaks](https://figshare.com/articles/dataset/A_global_dataset_of_pandemic-_and_epidemic-prone_disease_outbreaks/17207183/2?file=37887318)\n",
    "- Export from folder \n",
    "..."
   ]
  },
  {
   "cell_type": "code",
   "execution_count": null,
   "id": "952e4a4c",
   "metadata": {},
   "outputs": [],
   "source": []
  },
  {
   "cell_type": "markdown",
   "id": "2bf30c77",
   "metadata": {},
   "source": [
    "## Initial Questions (At least 10 questions)\n",
    "\n",
    "- **Question 1:** When were donations of pandemic supplies most concentrated?\n",
    "- **Question 2:** What are the trends in donation time?\n",
    "- **Question 3:** How are these supplies distributed i.e. who/where is receiving the most ammmount of supplies for any given country?\n",
    "- **Question 4:** When is the most serious period is during Covid in any given country?\n",
    "- **Question 5:** Which equipment (goggles, gloves, gowns, etc.) helps most? (all the stuff except masks and ventilators) \n",
    "- **Question 6:** What kind of donor do we have/who donates the most? (private organization, government organizations, etc.)\n",
    "- **Question 7:** Is there a difference in the dispersion pattern of N95 masks when compared to regular masks? Did the case rates see a greater improvment?\n",
    "- **Question 8:** Are locations where tests are more commonly donated subject to a lower spread of disease?\n",
    "- **Question 9:** Does the dollar amount of donations affect the case rates/death rates in between certain countries?\n",
    "- **Question 10:** Does the number of ventilators donated affect death rates in any given country?\n",
    "- **Question 11:** Are certain types of donors are associated with more significant improvements in COVID - 19 case/death rates in the recipient countries?"
   ]
  },
  {
   "cell_type": "code",
   "execution_count": null,
   "id": "33f1ce46",
   "metadata": {},
   "outputs": [],
   "source": []
  }
 ],
 "metadata": {
  "hide_input": false,
  "kernelspec": {
   "display_name": "Python 3",
   "language": "python",
   "name": "python3"
  },
  "language_info": {
   "codemirror_mode": {
    "name": "ipython",
    "version": 3
   },
   "file_extension": ".py",
   "mimetype": "text/x-python",
   "name": "python",
   "nbconvert_exporter": "python",
   "pygments_lexer": "ipython3",
   "version": "3.13.7"
  }
 },
 "nbformat": 4,
 "nbformat_minor": 5
}
