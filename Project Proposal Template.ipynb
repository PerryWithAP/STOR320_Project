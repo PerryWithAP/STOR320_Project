{
 "cells": [
  {
   "cell_type": "markdown",
   "id": "90b5bf0e",
   "metadata": {},
   "source": [
    "# STOR 320: Methods for Data Science\n",
    "## 2025 Fall\n",
    "## Project Proposal Group 6"
   ]
  },
  {
   "cell_type": "markdown",
   "id": "e15d0f56",
   "metadata": {},
   "source": [
    "## Project Roles\n",
    "\n",
    "- **Creator:** Perry Sorenson, psor1241@unc.edu, 730742688\n",
    "- **Interpreter(s):** Elijah Turner, elpresto@unc.edu, 730773330\n",
    "- **Interpreter(s):** Huayi Ge, huayige@unc.edu, 730941427\n",
    "- **Interpreter(s):**Yijing Ren, ryj122@unc.edu, 730939575\n",
    "- **Deliverer:** Hao Zheng, haozheng@unc.edu, 730776321"
   ]
  },
  {
   "cell_type": "markdown",
   "id": "2b144712",
   "metadata": {},
   "source": [
    "## Datasets\n",
    "\n",
    "[NAME_OF_DATASET](URL_HYPERLINK_TO_WEBSITE_WHERE_DATA_IS)  \n",
    "- Plan to [scrape or download]\n",
    "\n",
    "[NAME_OF_DATASET](URL_HYPERLINK_TO_WEBSITE_WHERE_DATA_IS)\n",
    "- Plan to [scrape or download]\n",
    "\n",
    "..."
   ]
  },
  {
   "cell_type": "markdown",
   "id": "2bf30c77",
   "metadata": {},
   "source": [
    "## Initial Questions (At least 10 questions)\n",
    "\n",
    "- **Question 1:** What age range is more prone to injury\n",
    "- **Question 2:**\n",
    "- **Question 3:**\n",
    "- **Question 4:**\n",
    "- **Question 5:**\n",
    "- **Question 6:**\n",
    "- **Question 7:**\n",
    "- **Question 8:**\n",
    "- **Question 9:**\n",
    "- **Question 10:**"
   ]
  },
  {
   "cell_type": "code",
   "execution_count": null,
   "id": "33f1ce46",
   "metadata": {},
   "outputs": [],
   "source": []
  }
 ],
 "metadata": {
  "hide_input": false,
  "kernelspec": {
   "display_name": "Python 3 (ipykernel)",
   "language": "python",
   "name": "python3"
  },
  "language_info": {
   "codemirror_mode": {
    "name": "ipython",
    "version": 3
   },
   "file_extension": ".py",
   "mimetype": "text/x-python",
   "name": "python",
   "nbconvert_exporter": "python",
   "pygments_lexer": "ipython3",
   "version": "3.11.4"
  }
 },
 "nbformat": 4,
 "nbformat_minor": 5
}
