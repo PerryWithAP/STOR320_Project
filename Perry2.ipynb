{
 "cells": [
  {
   "cell_type": "code",
   "execution_count": null,
   "id": "974ffbe3",
   "metadata": {},
   "outputs": [
    {
     "name": "stderr",
     "output_type": "stream",
     "text": [
      "C:\\Users\\pdawg\\AppData\\Local\\Temp\\ipykernel_27988\\2507387398.py:5: UserWarning: FigureCanvasAgg is non-interactive, and thus cannot be shown\n",
      "  plt.show()\n",
      "C:\\Users\\pdawg\\AppData\\Local\\Temp\\ipykernel_27988\\3663136537.py:5: UserWarning: FigureCanvasAgg is non-interactive, and thus cannot be shown\n",
      "  plt.show()\n",
      "C:\\Users\\pdawg\\AppData\\Local\\Temp\\ipykernel_27988\\3635223098.py:5: UserWarning: FigureCanvasAgg is non-interactive, and thus cannot be shown\n",
      "  plt.show()\n",
      "C:\\Users\\pdawg\\AppData\\Local\\Temp\\ipykernel_27988\\2642332616.py:5: UserWarning: FigureCanvasAgg is non-interactive, and thus cannot be shown\n",
      "  plt.show()\n",
      "C:\\Users\\pdawg\\AppData\\Local\\Temp\\ipykernel_27988\\1890214028.py:5: UserWarning: FigureCanvasAgg is non-interactive, and thus cannot be shown\n",
      "  plt.show()\n",
      "C:\\Users\\pdawg\\AppData\\Local\\Temp\\ipykernel_27988\\2642332616.py:5: UserWarning: FigureCanvasAgg is non-interactive, and thus cannot be shown\n",
      "  plt.show()\n",
      "C:\\Users\\pdawg\\AppData\\Local\\Temp\\ipykernel_27988\\906069736.py:26: UserWarning: FigureCanvasAgg is non-interactive, and thus cannot be shown\n",
      "  plt.show()\n",
      "C:\\Users\\pdawg\\AppData\\Local\\Temp\\ipykernel_27988\\906069736.py:15: RuntimeWarning: More than 20 figures have been opened. Figures created through the pyplot interface (`matplotlib.pyplot.figure`) are retained until explicitly closed and may consume too much memory. (To control this warning, see the rcParam `figure.max_open_warning`). Consider using `matplotlib.pyplot.close()`.\n",
      "  plt.figure(figsize=(8, 4))\n",
      "C:\\Users\\pdawg\\AppData\\Local\\Temp\\ipykernel_27988\\19608818.py:21: UserWarning: FigureCanvasAgg is non-interactive, and thus cannot be shown\n",
      "  plt.show()\n",
      "C:\\Users\\pdawg\\AppData\\Local\\Temp\\ipykernel_27988\\3002181905.py:16: UserWarning: FigureCanvasAgg is non-interactive, and thus cannot be shown\n",
      "  plt.show()\n",
      "C:\\Users\\pdawg\\AppData\\Local\\Temp\\ipykernel_27988\\1049683932.py:28: UserWarning: FigureCanvasAgg is non-interactive, and thus cannot be shown\n",
      "  plt.show()\n",
      "C:\\Users\\pdawg\\AppData\\Local\\Temp\\ipykernel_27988\\1491914436.py:41: UserWarning: FigureCanvasAgg is non-interactive, and thus cannot be shown\n",
      "  plt.show()\n"
     ]
    },
    {
     "name": "stdout",
     "output_type": "stream",
     "text": [
      "0.2285883680461016\n",
      "0.4806292725735936\n",
      "0.16450181468651254\n",
      "0.034108439103371246\n",
      "-0.5828781844478823\n",
      "-0.05402107195822715\n",
      "0.04238418532462557\n",
      "0.05821010954519163\n",
      "-0.2908359007123523\n",
      "0.07032056354574541\n",
      "-0.2853085595541503\n",
      "0.0332677612202415\n",
      "0.1489780213562723\n",
      "0.26548744809777314\n",
      "-0.5469898873935615\n",
      "0.5017466509108619\n",
      "-0.6720978457150301\n",
      "-0.062436992624841654\n",
      "0.17359152618776746\n",
      "0.26409020378089393\n",
      "0.15090427254810465\n",
      "-0.035855458689523716\n",
      "0.03874541089911993\n",
      "Argentina correlation: 0.6457599993032788\n"
     ]
    },
    {
     "name": "stderr",
     "output_type": "stream",
     "text": [
      "C:\\Users\\pdawg\\AppData\\Local\\Temp\\ipykernel_27988\\2127325980.py:41: UserWarning: FigureCanvasAgg is non-interactive, and thus cannot be shown\n",
      "  plt.show()\n"
     ]
    },
    {
     "name": "stdout",
     "output_type": "stream",
     "text": [
      "Brazil correlation: 0.7406130106587534\n",
      "Chile correlation: 0.1881052255266034\n",
      "Colombia correlation: 0.23691481558911312\n",
      "Costa Rica correlation: -0.6467695631290202\n",
      "Cuba correlation: 0.15793754238861035\n",
      "Dominican Republic correlation: -0.0739062222850836\n",
      "Ecuador correlation: -0.3390959355518739\n",
      "El Salvador correlation: -0.876904186663115\n",
      "Guatemala correlation: 0.12142180706887781\n",
      "Honduras correlation: -0.605766268754293\n",
      "Mexico correlation: 0.5185534697120437\n",
      "Nicaragua correlation: 0.21535805419268572\n",
      "Panama correlation: 0.314629175384682\n",
      "Paraguay correlation: -0.5379031445968927\n",
      "Peru correlation: 0.8243461010973185\n",
      "Uruguay correlation: -0.6920194479129547\n",
      "Bahamas correlation: -0.2603076454358354\n",
      "Barbados correlation: 0.09035427378219998\n",
      "Belize correlation: 0.4541957965044356\n",
      "Haiti correlation: 0.2080942240410533\n",
      "Jamaica correlation: -0.008192052703565187\n",
      "Trinidad and Tobago correlation: 0.15867049359902763\n",
      "Argentina 0.6457599993032788\n",
      "Brazil 0.7406130106587534\n",
      "Chile 0.1881052255266034\n",
      "Colombia 0.23691481558911312\n",
      "Costa Rica -0.6467695631290202\n",
      "Cuba 0.15793754238861035\n",
      "Dominican Republic -0.0739062222850836\n",
      "Ecuador -0.3390959355518739\n",
      "El Salvador -0.876904186663115\n",
      "Guatemala 0.12142180706887781\n",
      "Honduras -0.605766268754293\n",
      "Mexico 0.5185534697120437\n",
      "Nicaragua 0.21535805419268572\n",
      "Panama 0.314629175384682\n",
      "Paraguay -0.5379031445968927\n",
      "Peru 0.8243461010973185\n",
      "Uruguay -0.6920194479129547\n",
      "Bahamas -0.2603076454358354\n",
      "Barbados 0.09035427378219998\n",
      "Belize 0.4541957965044356\n",
      "Haiti 0.2080942240410533\n",
      "Jamaica -0.008192052703565187\n",
      "Trinidad and Tobago 0.15867049359902763\n"
     ]
    }
   ],
   "source": [
    "import matplotlib\n",
    "matplotlib.use('Agg')  # Use non-interactive backend\n",
    "%run Perry.ipynb"
   ]
  },
  {
   "cell_type": "code",
   "execution_count": 3,
   "id": "15748089",
   "metadata": {},
   "outputs": [
    {
     "name": "stdout",
     "output_type": "stream",
     "text": [
      "Argentina 0.6457599993032788\n",
      "Brazil 0.7406130106587534\n",
      "Chile 0.1881052255266034\n",
      "Colombia 0.23691481558911312\n",
      "Costa Rica -0.6467695631290202\n",
      "Cuba 0.15793754238861035\n",
      "Dominican Republic -0.0739062222850836\n",
      "Ecuador -0.3390959355518739\n",
      "El Salvador -0.876904186663115\n",
      "Guatemala 0.12142180706887781\n",
      "Honduras -0.605766268754293\n",
      "Mexico 0.5185534697120437\n",
      "Nicaragua 0.21535805419268572\n",
      "Panama 0.314629175384682\n",
      "Paraguay -0.5379031445968927\n",
      "Peru 0.8243461010973185\n",
      "Uruguay -0.6920194479129547\n",
      "Bahamas -0.2603076454358354\n",
      "Barbados 0.09035427378219998\n",
      "Belize 0.4541957965044356\n",
      "Haiti 0.2080942240410533\n",
      "Jamaica -0.008192052703565187\n",
      "Trinidad and Tobago 0.15867049359902763\n"
     ]
    }
   ],
   "source": [
    "for country, corr in correlations.items():\n",
    "    print(country, float(corr)) "
   ]
  }
 ],
 "metadata": {
  "kernelspec": {
   "display_name": "Python 3",
   "language": "python",
   "name": "python3"
  },
  "language_info": {
   "codemirror_mode": {
    "name": "ipython",
    "version": 3
   },
   "file_extension": ".py",
   "mimetype": "text/x-python",
   "name": "python",
   "nbconvert_exporter": "python",
   "pygments_lexer": "ipython3",
   "version": "3.13.9"
  }
 },
 "nbformat": 4,
 "nbformat_minor": 5
}
